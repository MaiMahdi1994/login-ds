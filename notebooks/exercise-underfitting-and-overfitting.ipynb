{
 "cells": [
  {
   "cell_type": "markdown",
   "execution_count": null,
   "metadata": {},
   "source": [
    "**[Machine Learning Micro-Course Home Page](https://www.kaggle.com/learn/intro-to-machine-learning)**\n",
    "\n",
    "---\n"
   ]
  },
  {
   "cell_type": "markdown",
   "execution_count": null,
   "metadata": {},
   "source": [
    "## Recap\n",
    "You've built your first model, and now it's time to optimize the size of the tree to make better predictions. Run this cell to set up your coding environment where the previous step left off."
   ]
  },
  {
   "cell_type": "code",
   "execution_count": 1,
   "metadata": {},
   "outputs": [
    {
     "name": "stdout",
     "output_type": "stream",
     "text": [
      "Validation MAE: 29,653\n",
      "\n",
      "Setup complete\n"
     ]
    }
   ],
   "source": [
    "# Code you have previously used to load data\n",
    "import pandas as pd\n",
    "from sklearn.metrics import mean_absolute_error\n",
    "from sklearn.model_selection import train_test_split\n",
    "from sklearn.tree import DecisionTreeRegressor\n",
    "\n",
    "\n",
    "# Path of the file to read\n",
    "iowa_file_path = '../input/home-data-for-ml-course/train.csv'\n",
    "\n",
    "home_data = pd.read_csv(iowa_file_path)\n",
    "# Create target object and call it y\n",
    "y = home_data.SalePrice\n",
    "# Create X\n",
    "features = ['LotArea', 'YearBuilt', '1stFlrSF', '2ndFlrSF', 'FullBath', 'BedroomAbvGr', 'TotRmsAbvGrd']\n",
    "X = home_data[features]\n",
    "\n",
    "# Split into validation and training data\n",
    "train_X, val_X, train_y, val_y = train_test_split(X, y, random_state=1)\n",
    "\n",
    "# Specify Model\n",
    "iowa_model = DecisionTreeRegressor(random_state=1)\n",
    "# Fit Model\n",
    "iowa_model.fit(train_X, train_y)\n",
    "\n",
    "# Make validation predictions and calculate mean absolute error\n",
    "val_predictions = iowa_model.predict(val_X)\n",
    "val_mae = mean_absolute_error(val_predictions, val_y)\n",
    "print(\"Validation MAE: {:,.0f}\".format(val_mae))\n",
    "\n",
    "# Set up code checking\n",
    "from learntools.core import binder\n",
    "binder.bind(globals())\n",
    "from learntools.machine_learning.ex5 import *\n",
    "print(\"\\nSetup complete\")"
   ]
  },
  {
   "cell_type": "markdown",
   "execution_count": null,
   "metadata": {},
   "source": [
    "# Exercises\n",
    "You could write the function `get_mae` yourself. For now, we'll supply it. This is the same function you read about in the previous lesson. Just run the cell below."
   ]
  },
  {
   "cell_type": "code",
   "execution_count": 2,
   "metadata": {},
   "outputs": [],
   "source": [
    "def get_mae(max_leaf_nodes, train_X, val_X, train_y, val_y):\n",
    "    model = DecisionTreeRegressor(max_leaf_nodes=max_leaf_nodes, random_state=0)\n",
    "    model.fit(train_X, train_y)\n",
    "    preds_val = model.predict(val_X)\n",
    "    mae = mean_absolute_error(val_y, preds_val)\n",
    "    return(mae)"
   ]
  },
  {
   "cell_type": "markdown",
   "execution_count": null,
   "metadata": {},
   "source": [
    "## Step 1: Compare Different Tree Sizes\n",
    "Write a loop that tries the following values for *max_leaf_nodes* from a set of possible values.\n",
    "\n",
    "Call the *get_mae* function on each value of max_leaf_nodes. Store the output in some way that allows you to select the value of `max_leaf_nodes` that gives the most accurate model on your data."
   ]
  },
  {
   "cell_type": "code",
   "execution_count": 3,
   "metadata": {},
   "outputs": [
    {
     "name": "stdout",
     "output_type": "stream",
     "text": [
      "min mae 27282.50803885739 best tree size 100\n"
     ]
    },
    {
     "data": {
      "application/javascript": [
       "parent.postMessage({\"jupyterEvent\": \"custom.exercise_interaction\", \"data\": {\"outcomeType\": 1, \"valueTowardsCompletion\": 0.5, \"interactionType\": 1, \"questionType\": 1, \"learnTutorialId\": 120, \"questionId\": \"1_BestTreeSize\", \"learnToolsVersion\": \"0.3.1\", \"failureMessage\": \"\", \"exceptionClass\": \"\", \"trace\": \"\"}}, \"*\")"
      ],
      "text/plain": [
       "<IPython.core.display.Javascript object>"
      ]
     },
     "metadata": {},
     "output_type": "display_data"
    },
    {
     "data": {
      "text/markdown": [
       "<span style=\"color:#33cc33\">Correct</span>"
      ],
      "text/plain": [
       "Correct"
      ]
     },
     "metadata": {},
     "output_type": "display_data"
    }
   ],
   "source": [
    "candidate_max_leaf_nodes = [5, 25, 50, 100, 250, 500]\n",
    "# Write loop to find the ideal tree size from candidate_max_leaf_nodes\n",
    "min_mae =  get_mae(candidate_max_leaf_nodes[0], train_X, val_X, train_y, val_y)\n",
    "best_index = 0\n",
    "for i in range(1, len(candidate_max_leaf_nodes)):\n",
    "    mae = get_mae(candidate_max_leaf_nodes[i], train_X, val_X, train_y, val_y)\n",
    "    if mae < min_mae:\n",
    "        min_mae = mae\n",
    "        best_index = i \n",
    "        \n",
    "\n",
    "# Store the best value of max_leaf_nodes (it will be either 5, 25, 50, 100, 250 or 500)\n",
    "best_tree_size = candidate_max_leaf_nodes[best_index]\n",
    "print('min mae', min_mae, 'best tree size', best_tree_size)\n",
    "step_1.check()"
   ]
  },
  {
   "cell_type": "code",
   "execution_count": 4,
   "metadata": {},
   "outputs": [
    {
     "data": {
      "application/javascript": [
       "parent.postMessage({\"jupyterEvent\": \"custom.exercise_interaction\", \"data\": {\"outcomeType\": 1, \"valueTowardsCompletion\": 0.5, \"interactionType\": 1, \"questionType\": 1, \"learnTutorialId\": 120, \"questionId\": \"1_BestTreeSize\", \"learnToolsVersion\": \"0.3.1\", \"failureMessage\": \"\", \"exceptionClass\": \"\", \"trace\": \"\"}}, \"*\")"
      ],
      "text/plain": [
       "<IPython.core.display.Javascript object>"
      ]
     },
     "metadata": {},
     "output_type": "display_data"
    },
    {
     "data": {
      "text/markdown": [
       "<span style=\"color:#33cc33\">Correct</span>"
      ],
      "text/plain": [
       "Correct"
      ]
     },
     "metadata": {},
     "output_type": "display_data"
    }
   ],
   "source": [
    "candidate_max_leaf_nodes = [5, 25, 50, 100, 250, 500]\n",
    "# candidate_max_leaf_nodes = list(range(5, 500))\n",
    "# print(candidate_max_leaf_nodes)\n",
    "# Write loop to find the ideal tree size from candidate_max_leaf_nodes\n",
    "mae_dict = {}\n",
    "for i in range(len(candidate_max_leaf_nodes)):\n",
    "    mae = get_mae(candidate_max_leaf_nodes[i], train_X, val_X, train_y, val_y)\n",
    "    mae_dict[candidate_max_leaf_nodes[i]] = mae\n",
    "    \n",
    "# print(mae_dict) \n",
    "# print(sorted(  [(v,k) for k,v in mae_dict.items()]  )[0][1])\n",
    "\n",
    "# Store the best value of max_leaf_nodes (it will be either 5, 25, 50, 100, 250 or 500)\n",
    "best_tree_size = sorted(  [(v,k) for k,v in mae_dict.items()]  )[0][1]\n",
    "\n",
    "step_1.check()"
   ]
  },
  {
   "cell_type": "code",
   "execution_count": 5,
   "metadata": {},
   "outputs": [
    {
     "name": "stdout",
     "output_type": "stream",
     "text": [
      "[5, 15, 25, 35, 45, 55, 65, 75, 85, 95, 105, 115, 125, 135, 145, 155, 165, 175, 185, 195, 205, 215, 225, 235, 245, 255, 265, 275, 285, 295, 305, 315, 325, 335, 345, 355, 365, 375, 385, 395, 405, 415, 425, 435, 445, 455, 465, 475, 485, 495]\n"
     ]
    }
   ],
   "source": [
    "candidate_max_leaf_nodes = list(range(5, 500, 10))\n",
    "print(candidate_max_leaf_nodes)"
   ]
  },
  {
   "cell_type": "code",
   "execution_count": 6,
   "metadata": {},
   "outputs": [
    {
     "name": "stdout",
     "output_type": "stream",
     "text": [
      "{5: 35044.51299744237, 15: 28125.478430318668, 25: 29016.41319191076, 35: 28761.35218024895, 45: 27556.629320985754, 55: 27662.52507381978, 65: 27044.389659920456, 75: 27114.12284949469, 85: 27536.423432400934, 95: 27268.728164951488, 105: 27171.94053388672, 115: 27507.135607387558, 125: 27597.181562610316, 135: 27417.87004271469, 145: 27574.865509120435, 155: 27308.62697084118, 165: 27876.821296029506, 175: 27654.629151060646, 185: 27852.526061456192, 195: 28028.73376601116, 205: 27866.512537087867, 215: 27628.02506109128, 225: 27779.633038462118, 235: 27684.281421260785, 245: 27898.751449445943, 255: 27915.78856933265, 265: 27871.08081270571, 275: 28182.874433057965, 285: 28425.832400064523, 295: 28401.51354814019, 305: 28425.93275959667, 315: 28443.517350713322, 325: 28346.829579466306, 335: 28551.847062921453, 345: 28612.713794941337, 355: 28514.81247977249, 365: 28517.713164703997, 375: 28485.34473594858, 385: 28726.386891867645, 395: 28722.826226505607, 405: 28790.561800444604, 415: 28806.860359423812, 425: 28877.230874753233, 435: 28908.98140747774, 445: 29049.30887115561, 455: 29052.03672503689, 465: 29080.416177091687, 475: 29284.659700235203, 485: 29189.898284710092, 495: 29420.266777860776}\n"
     ]
    }
   ],
   "source": [
    "# Write loop to find the ideal tree size from candidate_max_leaf_nodes\n",
    "mae_dict = {}\n",
    "for i in range(len(candidate_max_leaf_nodes)):\n",
    "    mae = get_mae(candidate_max_leaf_nodes[i], train_X, val_X, train_y, val_y)\n",
    "    mae_dict[candidate_max_leaf_nodes[i]] = mae\n",
    "print(mae_dict)"
   ]
  },
  {
   "cell_type": "code",
   "execution_count": 7,
   "metadata": {},
   "outputs": [
    {
     "data": {
      "text/plain": [
       "[(27044.389659920456, 65),\n",
       " (27114.12284949469, 75),\n",
       " (27171.94053388672, 105),\n",
       " (27268.728164951488, 95),\n",
       " (27308.62697084118, 155),\n",
       " (27417.87004271469, 135),\n",
       " (27507.135607387558, 115),\n",
       " (27536.423432400934, 85),\n",
       " (27556.629320985754, 45),\n",
       " (27574.865509120435, 145),\n",
       " (27597.181562610316, 125),\n",
       " (27628.02506109128, 215),\n",
       " (27654.629151060646, 175),\n",
       " (27662.52507381978, 55),\n",
       " (27684.281421260785, 235),\n",
       " (27779.633038462118, 225),\n",
       " (27852.526061456192, 185),\n",
       " (27866.512537087867, 205),\n",
       " (27871.08081270571, 265),\n",
       " (27876.821296029506, 165),\n",
       " (27898.751449445943, 245),\n",
       " (27915.78856933265, 255),\n",
       " (28028.73376601116, 195),\n",
       " (28125.478430318668, 15),\n",
       " (28182.874433057965, 275),\n",
       " (28346.829579466306, 325),\n",
       " (28401.51354814019, 295),\n",
       " (28425.832400064523, 285),\n",
       " (28425.93275959667, 305),\n",
       " (28443.517350713322, 315),\n",
       " (28485.34473594858, 375),\n",
       " (28514.81247977249, 355),\n",
       " (28517.713164703997, 365),\n",
       " (28551.847062921453, 335),\n",
       " (28612.713794941337, 345),\n",
       " (28722.826226505607, 395),\n",
       " (28726.386891867645, 385),\n",
       " (28761.35218024895, 35),\n",
       " (28790.561800444604, 405),\n",
       " (28806.860359423812, 415),\n",
       " (28877.230874753233, 425),\n",
       " (28908.98140747774, 435),\n",
       " (29016.41319191076, 25),\n",
       " (29049.30887115561, 445),\n",
       " (29052.03672503689, 455),\n",
       " (29080.416177091687, 465),\n",
       " (29189.898284710092, 485),\n",
       " (29284.659700235203, 475),\n",
       " (29420.266777860776, 495),\n",
       " (35044.51299744237, 5)]"
      ]
     },
     "execution_count": 7,
     "metadata": {},
     "output_type": "execute_result"
    }
   ],
   "source": [
    "r_mae_dict = [ (v,k) for k,v in mae_dict.items() ]\n",
    "\n",
    "best_tree_size = sorted(   r_mae_dict  )\n",
    "\n",
    "best_tree_size"
   ]
  },
  {
   "cell_type": "code",
   "execution_count": 8,
   "metadata": {},
   "outputs": [
    {
     "data": {
      "text/plain": [
       "(27044.389659920456, 65)"
      ]
     },
     "execution_count": 8,
     "metadata": {},
     "output_type": "execute_result"
    }
   ],
   "source": [
    "best_tree_size[0]"
   ]
  },
  {
   "cell_type": "code",
   "execution_count": 9,
   "metadata": {},
   "outputs": [
    {
     "data": {
      "text/plain": [
       "65"
      ]
     },
     "execution_count": 9,
     "metadata": {},
     "output_type": "execute_result"
    }
   ],
   "source": [
    "best_tree_size[0][1]"
   ]
  },
  {
   "cell_type": "code",
   "execution_count": 10,
   "metadata": {},
   "outputs": [
    {
     "name": "stdout",
     "output_type": "stream",
     "text": [
      "best max leaf node = 65, with error = 27044.389659920456\n"
     ]
    }
   ],
   "source": [
    "print(f'best max leaf node = {best_tree_size[0][1]}, with error = {best_tree_size[0][0]}')"
   ]
  },
  {
   "cell_type": "code",
   "execution_count": 11,
   "metadata": {},
   "outputs": [],
   "source": [
    "# The lines below will show you a hint or the solution.\n",
    "# step_1.hint() \n",
    "# step_1.solution()"
   ]
  },
  {
   "cell_type": "markdown",
   "execution_count": null,
   "metadata": {},
   "source": [
    "## Step 2: Fit Model Using All Data\n",
    "You know the best tree size. If you were going to deploy this model in practice, you would make it even more accurate by using all of the data and keeping that tree size.  That is, you don't need to hold out the validation data now that you've made all your modeling decisions."
   ]
  },
  {
   "cell_type": "code",
   "execution_count": 12,
   "metadata": {},
   "outputs": [
    {
     "ename": "ValueError",
     "evalue": "max_leaf_nodes must be integral number but was [(27044.389659920456, 65), (27114.12284949469, 75), (27171.94053388672, 105), (27268.728164951488, 95), (27308.62697084118, 155), (27417.87004271469, 135), (27507.135607387558, 115), (27536.423432400934, 85), (27556.629320985754, 45), (27574.865509120435, 145), (27597.181562610316, 125), (27628.02506109128, 215), (27654.629151060646, 175), (27662.52507381978, 55), (27684.281421260785, 235), (27779.633038462118, 225), (27852.526061456192, 185), (27866.512537087867, 205), (27871.08081270571, 265), (27876.821296029506, 165), (27898.751449445943, 245), (27915.78856933265, 255), (28028.73376601116, 195), (28125.478430318668, 15), (28182.874433057965, 275), (28346.829579466306, 325), (28401.51354814019, 295), (28425.832400064523, 285), (28425.93275959667, 305), (28443.517350713322, 315), (28485.34473594858, 375), (28514.81247977249, 355), (28517.713164703997, 365), (28551.847062921453, 335), (28612.713794941337, 345), (28722.826226505607, 395), (28726.386891867645, 385), (28761.35218024895, 35), (28790.561800444604, 405), (28806.860359423812, 415), (28877.230874753233, 425), (28908.98140747774, 435), (29016.41319191076, 25), (29049.30887115561, 445), (29052.03672503689, 455), (29080.416177091687, 465), (29189.898284710092, 485), (29284.659700235203, 475), (29420.266777860776, 495), (35044.51299744237, 5)]",
     "output_type": "error",
     "traceback": [
      "\u001b[0;31m---------------------------------------------------------------------------\u001b[0m",
      "\u001b[0;31mValueError\u001b[0m                                Traceback (most recent call last)",
      "\u001b[0;32m<ipython-input-12-f78fd21f7d63>\u001b[0m in \u001b[0;36m<module>\u001b[0;34m\u001b[0m\n\u001b[1;32m      3\u001b[0m \u001b[0;34m\u001b[0m\u001b[0m\n\u001b[1;32m      4\u001b[0m \u001b[0;31m# fit the final model and uncomment the next two lines\u001b[0m\u001b[0;34m\u001b[0m\u001b[0;34m\u001b[0m\u001b[0m\n\u001b[0;32m----> 5\u001b[0;31m \u001b[0mfinal_model\u001b[0m\u001b[0;34m.\u001b[0m\u001b[0mfit\u001b[0m\u001b[0;34m(\u001b[0m\u001b[0mX\u001b[0m\u001b[0;34m,\u001b[0m \u001b[0my\u001b[0m\u001b[0;34m)\u001b[0m\u001b[0;34m\u001b[0m\u001b[0m\n\u001b[0m\u001b[1;32m      6\u001b[0m \u001b[0mstep_2\u001b[0m\u001b[0;34m.\u001b[0m\u001b[0mcheck\u001b[0m\u001b[0;34m(\u001b[0m\u001b[0;34m)\u001b[0m\u001b[0;34m\u001b[0m\u001b[0m\n",
      "\u001b[0;32m/opt/conda/lib/python3.6/site-packages/sklearn/tree/tree.py\u001b[0m in \u001b[0;36mfit\u001b[0;34m(self, X, y, sample_weight, check_input, X_idx_sorted)\u001b[0m\n\u001b[1;32m   1155\u001b[0m             \u001b[0msample_weight\u001b[0m\u001b[0;34m=\u001b[0m\u001b[0msample_weight\u001b[0m\u001b[0;34m,\u001b[0m\u001b[0;34m\u001b[0m\u001b[0m\n\u001b[1;32m   1156\u001b[0m             \u001b[0mcheck_input\u001b[0m\u001b[0;34m=\u001b[0m\u001b[0mcheck_input\u001b[0m\u001b[0;34m,\u001b[0m\u001b[0;34m\u001b[0m\u001b[0m\n\u001b[0;32m-> 1157\u001b[0;31m             X_idx_sorted=X_idx_sorted)\n\u001b[0m\u001b[1;32m   1158\u001b[0m         \u001b[0;32mreturn\u001b[0m \u001b[0mself\u001b[0m\u001b[0;34m\u001b[0m\u001b[0m\n\u001b[1;32m   1159\u001b[0m \u001b[0;34m\u001b[0m\u001b[0m\n",
      "\u001b[0;32m/opt/conda/lib/python3.6/site-packages/sklearn/tree/tree.py\u001b[0m in \u001b[0;36mfit\u001b[0;34m(self, X, y, sample_weight, check_input, X_idx_sorted)\u001b[0m\n\u001b[1;32m    257\u001b[0m         \u001b[0;32mif\u001b[0m \u001b[0;32mnot\u001b[0m \u001b[0misinstance\u001b[0m\u001b[0;34m(\u001b[0m\u001b[0mmax_leaf_nodes\u001b[0m\u001b[0;34m,\u001b[0m \u001b[0;34m(\u001b[0m\u001b[0mnumbers\u001b[0m\u001b[0;34m.\u001b[0m\u001b[0mIntegral\u001b[0m\u001b[0;34m,\u001b[0m \u001b[0mnp\u001b[0m\u001b[0;34m.\u001b[0m\u001b[0minteger\u001b[0m\u001b[0;34m)\u001b[0m\u001b[0;34m)\u001b[0m\u001b[0;34m:\u001b[0m\u001b[0;34m\u001b[0m\u001b[0m\n\u001b[1;32m    258\u001b[0m             raise ValueError(\"max_leaf_nodes must be integral number but was \"\n\u001b[0;32m--> 259\u001b[0;31m                              \"%r\" % max_leaf_nodes)\n\u001b[0m\u001b[1;32m    260\u001b[0m         \u001b[0;32mif\u001b[0m \u001b[0;34m-\u001b[0m\u001b[0;36m1\u001b[0m \u001b[0;34m<\u001b[0m \u001b[0mmax_leaf_nodes\u001b[0m \u001b[0;34m<\u001b[0m \u001b[0;36m2\u001b[0m\u001b[0;34m:\u001b[0m\u001b[0;34m\u001b[0m\u001b[0m\n\u001b[1;32m    261\u001b[0m             raise ValueError((\"max_leaf_nodes {0} must be either None \"\n",
      "\u001b[0;31mValueError\u001b[0m: max_leaf_nodes must be integral number but was [(27044.389659920456, 65), (27114.12284949469, 75), (27171.94053388672, 105), (27268.728164951488, 95), (27308.62697084118, 155), (27417.87004271469, 135), (27507.135607387558, 115), (27536.423432400934, 85), (27556.629320985754, 45), (27574.865509120435, 145), (27597.181562610316, 125), (27628.02506109128, 215), (27654.629151060646, 175), (27662.52507381978, 55), (27684.281421260785, 235), (27779.633038462118, 225), (27852.526061456192, 185), (27866.512537087867, 205), (27871.08081270571, 265), (27876.821296029506, 165), (27898.751449445943, 245), (27915.78856933265, 255), (28028.73376601116, 195), (28125.478430318668, 15), (28182.874433057965, 275), (28346.829579466306, 325), (28401.51354814019, 295), (28425.832400064523, 285), (28425.93275959667, 305), (28443.517350713322, 315), (28485.34473594858, 375), (28514.81247977249, 355), (28517.713164703997, 365), (28551.847062921453, 335), (28612.713794941337, 345), (28722.826226505607, 395), (28726.386891867645, 385), (28761.35218024895, 35), (28790.561800444604, 405), (28806.860359423812, 415), (28877.230874753233, 425), (28908.98140747774, 435), (29016.41319191076, 25), (29049.30887115561, 445), (29052.03672503689, 455), (29080.416177091687, 465), (29189.898284710092, 485), (29284.659700235203, 475), (29420.266777860776, 495), (35044.51299744237, 5)]"
     ]
    }
   ],
   "source": [
    "# Fill in argument to make optimal size and uncomment\n",
    "final_model = DecisionTreeRegressor(max_leaf_nodes=best_tree_size, random_state=0)\n",
    "\n",
    "# fit the final model and uncomment the next two lines\n",
    "final_model.fit(X, y)\n",
    "step_2.check()"
   ]
  },
  {
   "cell_type": "code",
   "execution_count": 13,
   "metadata": {},
   "outputs": [],
   "source": [
    "# step_2.hint()\n",
    "# step_2.solution()"
   ]
  },
  {
   "cell_type": "markdown",
   "execution_count": null,
   "metadata": {},
   "source": [
    "You've tuned this model and improved your results. But we are still using Decision Tree models, which are not very sophisticated by modern machine learning standards. In the next step you will learn to use Random Forests to improve your models even more.\n",
    "\n",
    "# Keep Going\n",
    "\n",
    "You are ready for **[Random Forests](https://www.kaggle.com/dansbecker/random-forests).**\n"
   ]
  },
  {
   "cell_type": "markdown",
   "execution_count": null,
   "metadata": {},
   "source": [
    "---\n",
    "**[Machine Learning Micro-Course Home Page](https://www.kaggle.com/learn/intro-to-machine-learning)**\n",
    "\n"
   ]
  }
 ],
 "metadata": {
  "kernelspec": {
   "display_name": "Python 3",
   "language": "python",
   "name": "python3"
  },
  "language_info": {
   "codemirror_mode": {
    "name": "ipython",
    "version": 3
   },
   "file_extension": ".py",
   "mimetype": "text/x-python",
   "name": "python",
   "nbconvert_exporter": "python",
   "pygments_lexer": "ipython3",
   "version": "3.6.6"
  }
 },
 "nbformat": 4,
 "nbformat_minor": 4
}
